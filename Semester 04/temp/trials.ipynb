{
 "cells": [
  {
   "cell_type": "code",
   "execution_count": 2,
   "metadata": {},
   "outputs": [],
   "source": [
    "import pandas as pd\n",
    "# Updated data for Semester 4 based on the user's information\n",
    "data_sem4 = {\n",
    "    \"Subject_Code\": [\n",
    "        \"OMC401\", \"OMC402A\", \"OMC402B\", \"OMC402C\", \"OMC402D\", \"OMC403A\", \"OMC403B\", \"OMC403C\", \"OMC403D\", \n",
    "        \"OMC404A\", \"OMC404B\", \"OMC405\", \"OMC406\"\n",
    "    ],\n",
    "    \"Subject\": [\n",
    "        \"Data Science using R\", \"Cryptography\", \"Cybersecurity/Information Security\", \n",
    "        \"University-Approved MOOC or Certification\", \"Computer-Aided Simulation and Modelling\", \n",
    "        \"C# and .NET\", \"Advanced Graphics and Visual Computing\", \"Soft Computing\", \n",
    "        \"Internet of Things\", \"Personal Finance\", \"Digital Marketing\", \n",
    "        \"Internship/Dissertation/Capstone Project\", \"Data Science Laboratory\"\n",
    "    ],\n",
    "    \"Semester\": [\"4\"]*13\n",
    "}\n",
    "\n",
    "# Create a DataFrame\n",
    "df_sem4 = pd.DataFrame(data_sem4)\n",
    "\n",
    "# Saving to CSV file\n",
    "csv_file_path_sem4 = 'semester_4_subjects.csv'\n",
    "df_sem4.to_csv(csv_file_path_sem4, index=False)\n",
    "\n"
   ]
  },
  {
   "cell_type": "code",
   "execution_count": 3,
   "metadata": {},
   "outputs": [
    {
     "data": {
      "text/html": [
       "<div>\n",
       "<style scoped>\n",
       "    .dataframe tbody tr th:only-of-type {\n",
       "        vertical-align: middle;\n",
       "    }\n",
       "\n",
       "    .dataframe tbody tr th {\n",
       "        vertical-align: top;\n",
       "    }\n",
       "\n",
       "    .dataframe thead th {\n",
       "        text-align: right;\n",
       "    }\n",
       "</style>\n",
       "<table border=\"1\" class=\"dataframe\">\n",
       "  <thead>\n",
       "    <tr style=\"text-align: right;\">\n",
       "      <th></th>\n",
       "      <th>Subject_Code</th>\n",
       "      <th>Subject</th>\n",
       "      <th>Semester</th>\n",
       "    </tr>\n",
       "  </thead>\n",
       "  <tbody>\n",
       "    <tr>\n",
       "      <th>0</th>\n",
       "      <td>OMC401</td>\n",
       "      <td>Data Science using R</td>\n",
       "      <td>4</td>\n",
       "    </tr>\n",
       "    <tr>\n",
       "      <th>1</th>\n",
       "      <td>OMC402A</td>\n",
       "      <td>Cryptography</td>\n",
       "      <td>4</td>\n",
       "    </tr>\n",
       "    <tr>\n",
       "      <th>2</th>\n",
       "      <td>OMC402B</td>\n",
       "      <td>Cybersecurity/Information Security</td>\n",
       "      <td>4</td>\n",
       "    </tr>\n",
       "    <tr>\n",
       "      <th>3</th>\n",
       "      <td>OMC402C</td>\n",
       "      <td>University-Approved MOOC or Certification</td>\n",
       "      <td>4</td>\n",
       "    </tr>\n",
       "    <tr>\n",
       "      <th>4</th>\n",
       "      <td>OMC402D</td>\n",
       "      <td>Computer-Aided Simulation and Modelling</td>\n",
       "      <td>4</td>\n",
       "    </tr>\n",
       "    <tr>\n",
       "      <th>5</th>\n",
       "      <td>OMC403A</td>\n",
       "      <td>C# and .NET</td>\n",
       "      <td>4</td>\n",
       "    </tr>\n",
       "    <tr>\n",
       "      <th>6</th>\n",
       "      <td>OMC403B</td>\n",
       "      <td>Advanced Graphics and Visual Computing</td>\n",
       "      <td>4</td>\n",
       "    </tr>\n",
       "    <tr>\n",
       "      <th>7</th>\n",
       "      <td>OMC403C</td>\n",
       "      <td>Soft Computing</td>\n",
       "      <td>4</td>\n",
       "    </tr>\n",
       "    <tr>\n",
       "      <th>8</th>\n",
       "      <td>OMC403D</td>\n",
       "      <td>Internet of Things</td>\n",
       "      <td>4</td>\n",
       "    </tr>\n",
       "    <tr>\n",
       "      <th>9</th>\n",
       "      <td>OMC404A</td>\n",
       "      <td>Personal Finance</td>\n",
       "      <td>4</td>\n",
       "    </tr>\n",
       "    <tr>\n",
       "      <th>10</th>\n",
       "      <td>OMC404B</td>\n",
       "      <td>Digital Marketing</td>\n",
       "      <td>4</td>\n",
       "    </tr>\n",
       "    <tr>\n",
       "      <th>11</th>\n",
       "      <td>OMC405</td>\n",
       "      <td>Internship/Dissertation/Capstone Project</td>\n",
       "      <td>4</td>\n",
       "    </tr>\n",
       "    <tr>\n",
       "      <th>12</th>\n",
       "      <td>OMC406</td>\n",
       "      <td>Data Science Laboratory</td>\n",
       "      <td>4</td>\n",
       "    </tr>\n",
       "  </tbody>\n",
       "</table>\n",
       "</div>"
      ],
      "text/plain": [
       "   Subject_Code                                    Subject Semester\n",
       "0        OMC401                       Data Science using R        4\n",
       "1       OMC402A                               Cryptography        4\n",
       "2       OMC402B         Cybersecurity/Information Security        4\n",
       "3       OMC402C  University-Approved MOOC or Certification        4\n",
       "4       OMC402D    Computer-Aided Simulation and Modelling        4\n",
       "5       OMC403A                                C# and .NET        4\n",
       "6       OMC403B     Advanced Graphics and Visual Computing        4\n",
       "7       OMC403C                             Soft Computing        4\n",
       "8       OMC403D                         Internet of Things        4\n",
       "9       OMC404A                           Personal Finance        4\n",
       "10      OMC404B                          Digital Marketing        4\n",
       "11       OMC405   Internship/Dissertation/Capstone Project        4\n",
       "12       OMC406                    Data Science Laboratory        4"
      ]
     },
     "execution_count": 3,
     "metadata": {},
     "output_type": "execute_result"
    }
   ],
   "source": [
    "df_sem4"
   ]
  },
  {
   "cell_type": "code",
   "execution_count": 4,
   "metadata": {},
   "outputs": [
    {
     "data": {
      "text/plain": [
       "'d:\\\\MCA\\\\Semester 04'"
      ]
     },
     "execution_count": 4,
     "metadata": {},
     "output_type": "execute_result"
    }
   ],
   "source": [
    "import os; os.chdir('..')\n",
    "%pwd"
   ]
  },
  {
   "cell_type": "code",
   "execution_count": 4,
   "metadata": {},
   "outputs": [],
   "source": []
  },
  {
   "cell_type": "code",
   "execution_count": 5,
   "metadata": {},
   "outputs": [
    {
     "name": "stdout",
     "output_type": "stream",
     "text": [
      "OMC401 Data Science using R\n",
      "OMC402A Cryptography\n",
      "OMC402B Cybersecurity/Information Security\n",
      "OMC402C University-Approved MOOC or Certification\n",
      "OMC402D Computer-Aided Simulation and Modelling\n",
      "OMC403A C# and .NET\n",
      "OMC403B Advanced Graphics and Visual Computing\n",
      "OMC403C Soft Computing\n",
      "OMC403D Internet of Things\n",
      "OMC404A Personal Finance\n",
      "OMC404B Digital Marketing\n",
      "OMC405 Internship/Dissertation/Capstone Project\n",
      "OMC406 Data Science Laboratory\n"
     ]
    }
   ],
   "source": [
    "subjects= df_sem4.copy()\n",
    "\n",
    "subject_dict = dict()\n",
    "\n",
    "list_of_subjects= []\n",
    "for i in range(subjects.__len__()):\n",
    "# for i in range(2):\n",
    "    sub= subjects.iloc[i]\n",
    "    # print(sub)\n",
    "    # print(sub.keys())\n",
    "    list_of_subjects.append(f\"{sub['Subject_Code']} {sub['Subject']}\")\n",
    "    subject_dict[sub['Subject_Code']]=sub['Subject']\n",
    "    \n",
    "for sub in (list_of_subjects):\n",
    "    print(sub)\n",
    "    os.makedirs(sub, exist_ok=True)\n",
    "    with open(f\"{sub}/tmp\", \"w\") as f:\n",
    "        f.write(f\"initialized: [{sub}]\")"
   ]
  },
  {
   "cell_type": "code",
   "execution_count": 6,
   "metadata": {},
   "outputs": [
    {
     "data": {
      "text/plain": [
       "{'OMC401': 'Data Science using R',\n",
       " 'OMC402A': 'Cryptography',\n",
       " 'OMC402B': 'Cybersecurity/Information Security',\n",
       " 'OMC402C': 'University-Approved MOOC or Certification',\n",
       " 'OMC402D': 'Computer-Aided Simulation and Modelling',\n",
       " 'OMC403A': 'C# and .NET',\n",
       " 'OMC403B': 'Advanced Graphics and Visual Computing',\n",
       " 'OMC403C': 'Soft Computing',\n",
       " 'OMC403D': 'Internet of Things',\n",
       " 'OMC404A': 'Personal Finance',\n",
       " 'OMC404B': 'Digital Marketing',\n",
       " 'OMC405': 'Internship/Dissertation/Capstone Project',\n",
       " 'OMC406': 'Data Science Laboratory'}"
      ]
     },
     "execution_count": 6,
     "metadata": {},
     "output_type": "execute_result"
    }
   ],
   "source": [
    "subject_dict"
   ]
  },
  {
   "cell_type": "code",
   "execution_count": 7,
   "metadata": {},
   "outputs": [],
   "source": [
    "import os\n",
    "\n",
    "\n",
    "\n",
    "# Creating the timetable in markdown format\n",
    "timetable = \"\"\"\n",
    "# **MCA: Semester 04**\n",
    "\n",
    "## `Time Table`<br>\n",
    "\n",
    "                                                                                   |                                                                                        |                                                                                     |                                                                            |\n",
    "\n",
    "## `Assignments`<br>\n",
    "- [Assignment](<Assignments>)\n",
    "\n",
    "## `Exam Answers`<br>\n",
    "- [Exams](Exams)\n",
    "\n",
    "## `Subjects`<br>\n",
    "\"\"\"\n",
    "\n",
    "# Generating the list of subjects dynamically\n",
    "subject_list = \"\"\n",
    "for code, name in subject_dict.items():\n",
    "    subject_list += f\"- [{code} {name}](<{code} {name}>)\\n\"\n",
    "\n",
    "# Complete README content\n",
    "readme_content = timetable + \"\\n\" + subject_list\n",
    "\n",
    "# Create README.md file and write the content\n",
    "with open(\"README.md\", \"w\") as readme_file:\n",
    "    readme_file.write(readme_content)\n"
   ]
  },
  {
   "cell_type": "code",
   "execution_count": null,
   "metadata": {},
   "outputs": [],
   "source": []
  }
 ],
 "metadata": {
  "kernelspec": {
   "display_name": "Python 3",
   "language": "python",
   "name": "python3"
  },
  "language_info": {
   "codemirror_mode": {
    "name": "ipython",
    "version": 3
   },
   "file_extension": ".py",
   "mimetype": "text/x-python",
   "name": "python",
   "nbconvert_exporter": "python",
   "pygments_lexer": "ipython3",
   "version": "3.12.2"
  }
 },
 "nbformat": 4,
 "nbformat_minor": 2
}
