{
 "cells": [
  {
   "cell_type": "code",
   "execution_count": 1,
   "metadata": {},
   "outputs": [],
   "source": [
    "import os; os.chdir('..')"
   ]
  },
  {
   "cell_type": "code",
   "execution_count": 2,
   "metadata": {},
   "outputs": [],
   "source": [
    "import pandas as pd"
   ]
  },
  {
   "cell_type": "code",
   "execution_count": 16,
   "metadata": {},
   "outputs": [
    {
     "data": {
      "text/html": [
       "<div>\n",
       "<style scoped>\n",
       "    .dataframe tbody tr th:only-of-type {\n",
       "        vertical-align: middle;\n",
       "    }\n",
       "\n",
       "    .dataframe tbody tr th {\n",
       "        vertical-align: top;\n",
       "    }\n",
       "\n",
       "    .dataframe thead th {\n",
       "        text-align: right;\n",
       "    }\n",
       "</style>\n",
       "<table border=\"1\" class=\"dataframe\">\n",
       "  <thead>\n",
       "    <tr style=\"text-align: right;\">\n",
       "      <th></th>\n",
       "      <th>Subject_Code</th>\n",
       "      <th>Subject</th>\n",
       "      <th>Faculty</th>\n",
       "      <th>Day</th>\n",
       "      <th>Time</th>\n",
       "      <th>Link</th>\n",
       "    </tr>\n",
       "  </thead>\n",
       "  <tbody>\n",
       "    <tr>\n",
       "      <th>0</th>\n",
       "      <td>OMC200A</td>\n",
       "      <td>Introduction to Database Management Systems</td>\n",
       "      <td>Dr. Anupriya</td>\n",
       "      <td>Wednesday</td>\n",
       "      <td>4.00 PM to 5.00 PM</td>\n",
       "      <td>Click here</td>\n",
       "    </tr>\n",
       "    <tr>\n",
       "      <th>1</th>\n",
       "      <td>OMC200B</td>\n",
       "      <td>Introduction to Object-Oriented Programming</td>\n",
       "      <td>Ms. Afsar Jahan</td>\n",
       "      <td>Monday</td>\n",
       "      <td>6.00 PM to 7.00 PM</td>\n",
       "      <td>Click here</td>\n",
       "    </tr>\n",
       "    <tr>\n",
       "      <th>2</th>\n",
       "      <td>OMC201</td>\n",
       "      <td>Advanced Database Management Systems</td>\n",
       "      <td>Dr. Umesh Tiwari</td>\n",
       "      <td>Friday</td>\n",
       "      <td>6.00 PM to 7.00 PM</td>\n",
       "      <td>Click here</td>\n",
       "    </tr>\n",
       "    <tr>\n",
       "      <th>3</th>\n",
       "      <td>OMC202</td>\n",
       "      <td>Advanced Java Programming</td>\n",
       "      <td>Ms. Vaishnavi T</td>\n",
       "      <td>Tuesday</td>\n",
       "      <td>6.00 PM to 7.00 PM</td>\n",
       "      <td>Click here</td>\n",
       "    </tr>\n",
       "    <tr>\n",
       "      <th>4</th>\n",
       "      <td>OMC203</td>\n",
       "      <td>Advanced Data Structures</td>\n",
       "      <td>Dr. Vaishali Kulkarni</td>\n",
       "      <td>Thursday</td>\n",
       "      <td>5.00 PM to 6.00 PM</td>\n",
       "      <td>Click here</td>\n",
       "    </tr>\n",
       "    <tr>\n",
       "      <th>5</th>\n",
       "      <td>OMC204A</td>\n",
       "      <td>Data Mining and Warehousing</td>\n",
       "      <td>Dr. Anupriya</td>\n",
       "      <td>Wednesday</td>\n",
       "      <td>6.00 PM to 7.00 PM</td>\n",
       "      <td>Click here</td>\n",
       "    </tr>\n",
       "    <tr>\n",
       "      <th>6</th>\n",
       "      <td>OMC204B</td>\n",
       "      <td>Python Programming</td>\n",
       "      <td>Ms. Sreedevi R. Nagarmunoli</td>\n",
       "      <td>Tuesday</td>\n",
       "      <td>5.00 PM to 6.00 PM</td>\n",
       "      <td>Click here</td>\n",
       "    </tr>\n",
       "    <tr>\n",
       "      <th>7</th>\n",
       "      <td>OMC204C</td>\n",
       "      <td>Software Project Management</td>\n",
       "      <td>Dr. Anupriya</td>\n",
       "      <td>Thursday</td>\n",
       "      <td>7.00 PM to 8.00 PM</td>\n",
       "      <td>Click here</td>\n",
       "    </tr>\n",
       "    <tr>\n",
       "      <th>8</th>\n",
       "      <td>OMC204D</td>\n",
       "      <td>Probability and Statistics</td>\n",
       "      <td>Ms. Ganga Negi</td>\n",
       "      <td>Wednesday</td>\n",
       "      <td>7.00 PM to 8.00 PM</td>\n",
       "      <td>Click here</td>\n",
       "    </tr>\n",
       "    <tr>\n",
       "      <th>9</th>\n",
       "      <td>OMC205</td>\n",
       "      <td>Entrepreneurship</td>\n",
       "      <td>Ms. Navya Bhat</td>\n",
       "      <td>Wednesday</td>\n",
       "      <td>5.00 PM to 6.00 PM</td>\n",
       "      <td>Click here</td>\n",
       "    </tr>\n",
       "    <tr>\n",
       "      <th>10</th>\n",
       "      <td>OMC206</td>\n",
       "      <td>Career Skills</td>\n",
       "      <td>Mr. Gaurav Dobriyal</td>\n",
       "      <td>Saturday</td>\n",
       "      <td>5.00 PM to 6.00 PM</td>\n",
       "      <td>Click here</td>\n",
       "    </tr>\n",
       "    <tr>\n",
       "      <th>11</th>\n",
       "      <td>OMC208</td>\n",
       "      <td>Advanced Database Management Systems Laboratory</td>\n",
       "      <td>Dr. Umesh Tiwari</td>\n",
       "      <td>Saturday</td>\n",
       "      <td>6.00 PM to 7.00 PM</td>\n",
       "      <td>Click here</td>\n",
       "    </tr>\n",
       "    <tr>\n",
       "      <th>12</th>\n",
       "      <td>OMC209</td>\n",
       "      <td>Advanced Java Programming Laboratory</td>\n",
       "      <td>Ms. Vaishnavi T</td>\n",
       "      <td>Thursday</td>\n",
       "      <td>6.00 PM to 7.00 PM</td>\n",
       "      <td>Click here</td>\n",
       "    </tr>\n",
       "    <tr>\n",
       "      <th>13</th>\n",
       "      <td>OMC210</td>\n",
       "      <td>Advanced Data Structures Laboratory</td>\n",
       "      <td>Dr. Vaishali Kulkarni</td>\n",
       "      <td>Friday</td>\n",
       "      <td>5.00 PM to 6.00 PM</td>\n",
       "      <td>Click here</td>\n",
       "    </tr>\n",
       "  </tbody>\n",
       "</table>\n",
       "</div>"
      ],
      "text/plain": [
       "   Subject_Code                                          Subject  \\\n",
       "0       OMC200A      Introduction to Database Management Systems   \n",
       "1       OMC200B      Introduction to Object-Oriented Programming   \n",
       "2        OMC201             Advanced Database Management Systems   \n",
       "3        OMC202                        Advanced Java Programming   \n",
       "4        OMC203                         Advanced Data Structures   \n",
       "5       OMC204A                      Data Mining and Warehousing   \n",
       "6       OMC204B                               Python Programming   \n",
       "7       OMC204C                      Software Project Management   \n",
       "8       OMC204D                       Probability and Statistics   \n",
       "9        OMC205                                 Entrepreneurship   \n",
       "10       OMC206                                    Career Skills   \n",
       "11       OMC208  Advanced Database Management Systems Laboratory   \n",
       "12       OMC209             Advanced Java Programming Laboratory   \n",
       "13       OMC210              Advanced Data Structures Laboratory   \n",
       "\n",
       "                        Faculty        Day                Time        Link  \n",
       "0                  Dr. Anupriya  Wednesday  4.00 PM to 5.00 PM  Click here  \n",
       "1               Ms. Afsar Jahan     Monday  6.00 PM to 7.00 PM  Click here  \n",
       "2              Dr. Umesh Tiwari     Friday  6.00 PM to 7.00 PM  Click here  \n",
       "3               Ms. Vaishnavi T    Tuesday  6.00 PM to 7.00 PM  Click here  \n",
       "4         Dr. Vaishali Kulkarni   Thursday  5.00 PM to 6.00 PM  Click here  \n",
       "5                  Dr. Anupriya  Wednesday  6.00 PM to 7.00 PM  Click here  \n",
       "6   Ms. Sreedevi R. Nagarmunoli    Tuesday  5.00 PM to 6.00 PM  Click here  \n",
       "7                  Dr. Anupriya   Thursday  7.00 PM to 8.00 PM  Click here  \n",
       "8                Ms. Ganga Negi  Wednesday  7.00 PM to 8.00 PM  Click here  \n",
       "9                Ms. Navya Bhat  Wednesday  5.00 PM to 6.00 PM  Click here  \n",
       "10          Mr. Gaurav Dobriyal   Saturday  5.00 PM to 6.00 PM  Click here  \n",
       "11             Dr. Umesh Tiwari   Saturday  6.00 PM to 7.00 PM  Click here  \n",
       "12              Ms. Vaishnavi T   Thursday  6.00 PM to 7.00 PM  Click here  \n",
       "13        Dr. Vaishali Kulkarni     Friday  5.00 PM to 6.00 PM  Click here  "
      ]
     },
     "execution_count": 16,
     "metadata": {},
     "output_type": "execute_result"
    }
   ],
   "source": [
    "subjects= pd.read_csv(\"temp/subjects.csv\")\n",
    "subjects"
   ]
  },
  {
   "cell_type": "code",
   "execution_count": 32,
   "metadata": {},
   "outputs": [
    {
     "name": "stdout",
     "output_type": "stream",
     "text": [
      "OMC200A Introduction to Database Management Systems\n",
      "OMC200B Introduction to Object-Oriented Programming\n",
      "OMC201 Advanced Database Management Systems\n",
      "OMC202 Advanced Java Programming\n",
      "OMC203 Advanced Data Structures\n",
      "OMC204A Data Mining and Warehousing\n",
      "OMC204B Python Programming\n",
      "OMC204C Software Project Management\n",
      "OMC204D Probability and Statistics\n",
      "OMC205 Entrepreneurship\n",
      "OMC206 Career Skills\n",
      "OMC208 Advanced Database Management Systems Laboratory\n",
      "OMC209 Advanced Java Programming Laboratory\n",
      "OMC210 Advanced Data Structures Laboratory\n"
     ]
    }
   ],
   "source": [
    "list_of_subjects= []\n",
    "for i in range(subjects.__len__()):\n",
    "# for i in range(2):\n",
    "    sub= subjects.iloc[i]\n",
    "    # print(sub)\n",
    "    # print(sub.keys())\n",
    "    list_of_subjects.append(f\"{sub['Subject_Code']} {sub['Subject']}\")\n",
    "    \n",
    "for sub in (list_of_subjects):\n",
    "    print(sub)\n",
    "    os.makedirs(sub, exist_ok=True)\n",
    "    with open(f\"{sub}/tmp\", \"w\") as f:\n",
    "        f.write(f\"initialized: [{sub}]\")\n",
    "    "
   ]
  },
  {
   "cell_type": "code",
   "execution_count": 33,
   "metadata": {},
   "outputs": [
    {
     "data": {
      "text/plain": [
       "Day\n",
       "Wednesday    4\n",
       "Thursday     3\n",
       "Friday       2\n",
       "Tuesday      2\n",
       "Saturday     2\n",
       "Monday       1\n",
       "Name: count, dtype: int64"
      ]
     },
     "execution_count": 33,
     "metadata": {},
     "output_type": "execute_result"
    }
   ],
   "source": [
    "subjects.Day.value_counts()"
   ]
  },
  {
   "cell_type": "code",
   "execution_count": 34,
   "metadata": {},
   "outputs": [
    {
     "data": {
      "text/plain": [
       "array(['Wednesday', 'Monday', 'Friday', 'Tuesday', 'Thursday', 'Saturday'],\n",
       "      dtype=object)"
      ]
     },
     "execution_count": 34,
     "metadata": {},
     "output_type": "execute_result"
    }
   ],
   "source": [
    "subjects.Day.unique()"
   ]
  },
  {
   "cell_type": "code",
   "execution_count": 25,
   "metadata": {},
   "outputs": [
    {
     "data": {
      "text/plain": [
       "'Introduction to Database Management Systems'"
      ]
     },
     "execution_count": 25,
     "metadata": {},
     "output_type": "execute_result"
    }
   ],
   "source": [
    "sub['Subject']"
   ]
  },
  {
   "cell_type": "code",
   "execution_count": 40,
   "metadata": {},
   "outputs": [
    {
     "name": "stdout",
     "output_type": "stream",
     "text": [
      "Wednesday\n",
      "                                       Subject                Time\n",
      "0  Introduction to Database Management Systems  4.00 PM to 5.00 PM\n",
      "5                  Data Mining and Warehousing  6.00 PM to 7.00 PM\n",
      "8                   Probability and Statistics  7.00 PM to 8.00 PM\n",
      "9                             Entrepreneurship  5.00 PM to 6.00 PM\n",
      "\n",
      "Monday\n",
      "                                       Subject                Time\n",
      "1  Introduction to Object-Oriented Programming  6.00 PM to 7.00 PM\n",
      "\n",
      "Friday\n",
      "                                 Subject                Time\n",
      "2   Advanced Database Management Systems  6.00 PM to 7.00 PM\n",
      "13   Advanced Data Structures Laboratory  5.00 PM to 6.00 PM\n",
      "\n",
      "Tuesday\n",
      "                     Subject                Time\n",
      "3  Advanced Java Programming  6.00 PM to 7.00 PM\n",
      "6         Python Programming  5.00 PM to 6.00 PM\n",
      "\n",
      "Thursday\n",
      "                                 Subject                Time\n",
      "4               Advanced Data Structures  5.00 PM to 6.00 PM\n",
      "7            Software Project Management  7.00 PM to 8.00 PM\n",
      "12  Advanced Java Programming Laboratory  6.00 PM to 7.00 PM\n",
      "\n",
      "Saturday\n",
      "                                            Subject                Time\n",
      "10                                    Career Skills  5.00 PM to 6.00 PM\n",
      "11  Advanced Database Management Systems Laboratory  6.00 PM to 7.00 PM\n",
      "\n"
     ]
    }
   ],
   "source": [
    "for day in ['Wednesday', 'Monday', 'Friday', 'Tuesday', 'Thursday', 'Saturday']:\n",
    "    print(day)\n",
    "    print(subjects[subjects.Day==day][['Subject', 'Time']])\n",
    "    print()"
   ]
  },
  {
   "cell_type": "code",
   "execution_count": 41,
   "metadata": {},
   "outputs": [],
   "source": [
    "with open(\"README.md\", \"a\") as f: \n",
    "    for sub in list_of_subjects:\n",
    "        f.write(f\"- [{sub}](<{sub}>)\\n\")"
   ]
  },
  {
   "cell_type": "code",
   "execution_count": null,
   "metadata": {},
   "outputs": [],
   "source": []
  }
 ],
 "metadata": {
  "kernelspec": {
   "display_name": "Python 3",
   "language": "python",
   "name": "python3"
  },
  "language_info": {
   "codemirror_mode": {
    "name": "ipython",
    "version": 3
   },
   "file_extension": ".py",
   "mimetype": "text/x-python",
   "name": "python",
   "nbconvert_exporter": "python",
   "pygments_lexer": "ipython3",
   "version": "3.12.2"
  }
 },
 "nbformat": 4,
 "nbformat_minor": 2
}
