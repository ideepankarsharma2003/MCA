{
 "cells": [
  {
   "cell_type": "code",
   "execution_count": 1,
   "metadata": {},
   "outputs": [],
   "source": [
    "import os; os.chdir('..')"
   ]
  },
  {
   "cell_type": "code",
   "execution_count": 2,
   "metadata": {},
   "outputs": [
    {
     "data": {
      "text/plain": [
       "['OMC103 Programming and Problem-Solving\\n',\n",
       " 'OMC104 Advanced Operating Systems \\n',\n",
       " 'OMC105B Green Computing \\n',\n",
       " 'OMC105D Cloud Computing \\n',\n",
       " 'OMC106C Career Skills - 1 \\n',\n",
       " 'OMC108 Full Stack Development Laboratory\\n',\n",
       " 'OMC109 Operating Systems and Computer Networks \\n',\n",
       " 'OMC110 Programming and Problem-Solving Laboratory\\n',\n",
       " 'OMC100C Mathematical Foundation of Computer Science']"
      ]
     },
     "execution_count": 2,
     "metadata": {},
     "output_type": "execute_result"
    }
   ],
   "source": [
    "with open('temp/list_of_subject.txt', 'r') as f:\n",
    "    subjects= f.readlines()\n",
    "\n",
    "subjects"
   ]
  },
  {
   "cell_type": "code",
   "execution_count": 3,
   "metadata": {},
   "outputs": [
    {
     "name": "stdout",
     "output_type": "stream",
     "text": [
      "OMC103 Programming and Problem-Solving exists\n",
      "OMC104 Advanced Operating Systems  exists\n",
      "OMC105B Green Computing  exists\n",
      "OMC105D Cloud Computing  exists\n",
      "OMC106C Career Skills - 1  exists\n",
      "OMC108 Full Stack Development Laboratory exists\n",
      "OMC109 Operating Systems and Computer Networks  exists\n",
      "OMC110 Programming and Problem-Solving Laboratory exists\n"
     ]
    }
   ],
   "source": [
    "for subject in subjects:\n",
    "    subject= subject.replace('\\n', '')\n",
    "    if not os.path.exists(subject):\n",
    "        os.makedirs(subject)\n",
    "    else:\n",
    "        print(f\"{subject} exists\")"
   ]
  },
  {
   "cell_type": "code",
   "execution_count": 4,
   "metadata": {},
   "outputs": [],
   "source": [
    "with open('Readme.md', 'w') as f:\n",
    "    for subject in subjects:\n",
    "        subject= subject.replace('\\n', '')\n",
    "        f.write(\n",
    "            f'- [{subject}]({subject})\\n'\n",
    "        )\n"
   ]
  },
  {
   "cell_type": "code",
   "execution_count": 1,
   "metadata": {},
   "outputs": [],
   "source": [
    "s= '''- [OMC103-Programming-and-Problem-Solving](/OMC103%20Programming%20and%20Problem-Solving/)\n",
    "- [OMC104-Advanced-Operating-Systems](/OMC104%20Advanced%20Operating%20Systems/)\n",
    "- [OMC105B-Green-Computing](/OMC105B%20Green%20Computing/)\n",
    "- [OMC105D-Cloud-Computing](OMC105D%20Cloud%20Computing)\n",
    "- [OMC106C-Career-Skills-1](/OMC106C%20Career%20Skills%20-%2%201/)\n",
    "- [OMC108-Full-Stack-Development-Laboratory](/OMC108%20Full%20Stack%20Development%20Laboratory/)\n",
    "- [OMC109-Operating-Systems-and-Computer-Networks](/OMC109%20Operating%20Systems%20and%20Computer%20Networks/)\n",
    "- [OMC110-Programming-and-Problem-Solving-Laboratory](/OMC110%20Programming%20and%20Problem-Solving%20Laboratory/)\n",
    "- [OMC101-Full-Stack-Development](/OMC101%20Full%20Stack%20Development/)\n",
    "- [OMC100C-Mathematical-Foundation-of-Computer-Science](<OMC100C Mathematical Foundation of Computer Science>)'''"
   ]
  },
  {
   "cell_type": "code",
   "execution_count": 3,
   "metadata": {},
   "outputs": [
    {
     "name": "stdout",
     "output_type": "stream",
     "text": [
      "- [OMC103-Programming-and-Problem-Solving](<OMC103 Programming and Problem-Solving<)\n",
      "- [OMC104-Advanced-Operating-Systems](<OMC104 Advanced Operating Systems<)\n",
      "- [OMC105B-Green-Computing](<OMC105B Green Computing<)\n",
      "- [OMC105D-Cloud-Computing](OMC105D Cloud Computing)\n",
      "- [OMC106C-Career-Skills-1](<OMC106C Career Skills -%2 1<)\n",
      "- [OMC108-Full-Stack-Development-Laboratory](<OMC108 Full Stack Development Laboratory<)\n",
      "- [OMC109-Operating-Systems-and-Computer-Networks](<OMC109 Operating Systems and Computer Networks<)\n",
      "- [OMC110-Programming-and-Problem-Solving-Laboratory](<OMC110 Programming and Problem-Solving Laboratory<)\n",
      "- [OMC101-Full-Stack-Development](<OMC101 Full Stack Development<)\n",
      "- [OMC100C-Mathematical-Foundation-of-Computer-Science](<OMC100C Mathematical Foundation of Computer Science>)\n"
     ]
    }
   ],
   "source": [
    "s= s.replace('/', '<')\n",
    "s= s.replace(\"%20\", \" \")\n",
    "print(s)"
   ]
  },
  {
   "cell_type": "code",
   "execution_count": null,
   "metadata": {},
   "outputs": [],
   "source": []
  }
 ],
 "metadata": {
  "kernelspec": {
   "display_name": "Python 3",
   "language": "python",
   "name": "python3"
  },
  "language_info": {
   "codemirror_mode": {
    "name": "ipython",
    "version": 3
   },
   "file_extension": ".py",
   "mimetype": "text/x-python",
   "name": "python",
   "nbconvert_exporter": "python",
   "pygments_lexer": "ipython3",
   "version": "3.9.6"
  }
 },
 "nbformat": 4,
 "nbformat_minor": 2
}
