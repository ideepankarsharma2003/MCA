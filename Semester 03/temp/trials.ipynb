{
 "cells": [
  {
   "cell_type": "code",
   "execution_count": 1,
   "metadata": {},
   "outputs": [],
   "source": [
    "import pandas as pd\n",
    "\n",
    "# Updated data based on the user's information\n",
    "data = {\n",
    "    \"Subject_Code\": [\n",
    "        \"OMC300A\", \"OMC300B\", \"OMC301\", \"OMC302\", \"OMC303\", \"OMC304A\", \"OMC304B\", \"OMC304C\", \"OMC304D\", \n",
    "        \"OMC305\", \"OMC306\", \"OMC307\", \"OMC308\", \"OMC309\"\n",
    "    ],\n",
    "    \"Subject\": [\n",
    "        \"Competitive Programming (Audit)\", \"Introduction to Software Engineering (Bridge)\", \n",
    "        \"Design and Analysis of Algorithms\", \"Mobile Application Development\", \n",
    "        \"Artificial Intelligence and Machine Learning\", \"Software Testing and Quality Assurance\", \n",
    "        \"Human-Computer Interaction\", \"Theory of Computation and Compiler Construction\", \n",
    "        \"Operations Research\", \"Career Skills\", \"Mini Project/Research Seminar\", \n",
    "        \"Design and Analysis of Algorithms Laboratory\", \"Mobile Application Development Laboratory\", \n",
    "        \"Artificial Intelligence and Machine Learning Laboratory\"\n",
    "    ],\n",
    "    \"Semester\": [\"3\"]*14\n",
    "}\n",
    "\n",
    "# Create a DataFrame\n",
    "df = pd.DataFrame(data)\n",
    "\n",
    "# Saving to CSV file\n",
    "csv_file_path = 'semester_3_subjects.csv'\n",
    "df.to_csv(csv_file_path, index=False)\n",
    "\n"
   ]
  },
  {
   "cell_type": "code",
   "execution_count": 3,
   "metadata": {},
   "outputs": [
    {
     "data": {
      "text/html": [
       "<div>\n",
       "<style scoped>\n",
       "    .dataframe tbody tr th:only-of-type {\n",
       "        vertical-align: middle;\n",
       "    }\n",
       "\n",
       "    .dataframe tbody tr th {\n",
       "        vertical-align: top;\n",
       "    }\n",
       "\n",
       "    .dataframe thead th {\n",
       "        text-align: right;\n",
       "    }\n",
       "</style>\n",
       "<table border=\"1\" class=\"dataframe\">\n",
       "  <thead>\n",
       "    <tr style=\"text-align: right;\">\n",
       "      <th></th>\n",
       "      <th>Subject_Code</th>\n",
       "      <th>Subject</th>\n",
       "      <th>Semester</th>\n",
       "    </tr>\n",
       "  </thead>\n",
       "  <tbody>\n",
       "    <tr>\n",
       "      <th>0</th>\n",
       "      <td>OMC300A</td>\n",
       "      <td>Competitive Programming (Audit)</td>\n",
       "      <td>3</td>\n",
       "    </tr>\n",
       "    <tr>\n",
       "      <th>1</th>\n",
       "      <td>OMC300B</td>\n",
       "      <td>Introduction to Software Engineering (Bridge)</td>\n",
       "      <td>3</td>\n",
       "    </tr>\n",
       "    <tr>\n",
       "      <th>2</th>\n",
       "      <td>OMC301</td>\n",
       "      <td>Design and Analysis of Algorithms</td>\n",
       "      <td>3</td>\n",
       "    </tr>\n",
       "    <tr>\n",
       "      <th>3</th>\n",
       "      <td>OMC302</td>\n",
       "      <td>Mobile Application Development</td>\n",
       "      <td>3</td>\n",
       "    </tr>\n",
       "    <tr>\n",
       "      <th>4</th>\n",
       "      <td>OMC303</td>\n",
       "      <td>Artificial Intelligence and Machine Learning</td>\n",
       "      <td>3</td>\n",
       "    </tr>\n",
       "    <tr>\n",
       "      <th>5</th>\n",
       "      <td>OMC304A</td>\n",
       "      <td>Software Testing and Quality Assurance</td>\n",
       "      <td>3</td>\n",
       "    </tr>\n",
       "    <tr>\n",
       "      <th>6</th>\n",
       "      <td>OMC304B</td>\n",
       "      <td>Human-Computer Interaction</td>\n",
       "      <td>3</td>\n",
       "    </tr>\n",
       "    <tr>\n",
       "      <th>7</th>\n",
       "      <td>OMC304C</td>\n",
       "      <td>Theory of Computation and Compiler Construction</td>\n",
       "      <td>3</td>\n",
       "    </tr>\n",
       "    <tr>\n",
       "      <th>8</th>\n",
       "      <td>OMC304D</td>\n",
       "      <td>Operations Research</td>\n",
       "      <td>3</td>\n",
       "    </tr>\n",
       "    <tr>\n",
       "      <th>9</th>\n",
       "      <td>OMC305</td>\n",
       "      <td>Career Skills</td>\n",
       "      <td>3</td>\n",
       "    </tr>\n",
       "    <tr>\n",
       "      <th>10</th>\n",
       "      <td>OMC306</td>\n",
       "      <td>Mini Project/Research Seminar</td>\n",
       "      <td>3</td>\n",
       "    </tr>\n",
       "    <tr>\n",
       "      <th>11</th>\n",
       "      <td>OMC307</td>\n",
       "      <td>Design and Analysis of Algorithms Laboratory</td>\n",
       "      <td>3</td>\n",
       "    </tr>\n",
       "    <tr>\n",
       "      <th>12</th>\n",
       "      <td>OMC308</td>\n",
       "      <td>Mobile Application Development Laboratory</td>\n",
       "      <td>3</td>\n",
       "    </tr>\n",
       "    <tr>\n",
       "      <th>13</th>\n",
       "      <td>OMC309</td>\n",
       "      <td>Artificial Intelligence and Machine Learning L...</td>\n",
       "      <td>3</td>\n",
       "    </tr>\n",
       "  </tbody>\n",
       "</table>\n",
       "</div>"
      ],
      "text/plain": [
       "   Subject_Code                                            Subject Semester\n",
       "0       OMC300A                    Competitive Programming (Audit)        3\n",
       "1       OMC300B      Introduction to Software Engineering (Bridge)        3\n",
       "2        OMC301                  Design and Analysis of Algorithms        3\n",
       "3        OMC302                     Mobile Application Development        3\n",
       "4        OMC303       Artificial Intelligence and Machine Learning        3\n",
       "5       OMC304A             Software Testing and Quality Assurance        3\n",
       "6       OMC304B                         Human-Computer Interaction        3\n",
       "7       OMC304C    Theory of Computation and Compiler Construction        3\n",
       "8       OMC304D                                Operations Research        3\n",
       "9        OMC305                                      Career Skills        3\n",
       "10       OMC306                      Mini Project/Research Seminar        3\n",
       "11       OMC307       Design and Analysis of Algorithms Laboratory        3\n",
       "12       OMC308          Mobile Application Development Laboratory        3\n",
       "13       OMC309  Artificial Intelligence and Machine Learning L...        3"
      ]
     },
     "execution_count": 3,
     "metadata": {},
     "output_type": "execute_result"
    }
   ],
   "source": [
    "df"
   ]
  },
  {
   "cell_type": "code",
   "execution_count": 4,
   "metadata": {},
   "outputs": [
    {
     "data": {
      "text/plain": [
       "'d:\\\\MCA\\\\Semester 03'"
      ]
     },
     "execution_count": 4,
     "metadata": {},
     "output_type": "execute_result"
    }
   ],
   "source": [
    "import os; os.chdir('..')\n",
    "%pwd"
   ]
  },
  {
   "cell_type": "code",
   "execution_count": 4,
   "metadata": {},
   "outputs": [],
   "source": []
  },
  {
   "cell_type": "code",
   "execution_count": 6,
   "metadata": {},
   "outputs": [
    {
     "name": "stdout",
     "output_type": "stream",
     "text": [
      "OMC300A Competitive Programming (Audit)\n",
      "OMC300B Introduction to Software Engineering (Bridge)\n",
      "OMC301 Design and Analysis of Algorithms\n",
      "OMC302 Mobile Application Development\n",
      "OMC303 Artificial Intelligence and Machine Learning\n",
      "OMC304A Software Testing and Quality Assurance\n",
      "OMC304B Human-Computer Interaction\n",
      "OMC304C Theory of Computation and Compiler Construction\n",
      "OMC304D Operations Research\n",
      "OMC305 Career Skills\n",
      "OMC306 Mini Project/Research Seminar\n",
      "OMC307 Design and Analysis of Algorithms Laboratory\n",
      "OMC308 Mobile Application Development Laboratory\n",
      "OMC309 Artificial Intelligence and Machine Learning Laboratory\n"
     ]
    }
   ],
   "source": [
    "subjects= df.copy()\n",
    "\n",
    "subject_dict = dict()\n",
    "\n",
    "list_of_subjects= []\n",
    "for i in range(subjects.__len__()):\n",
    "# for i in range(2):\n",
    "    sub= subjects.iloc[i]\n",
    "    # print(sub)\n",
    "    # print(sub.keys())\n",
    "    list_of_subjects.append(f\"{sub['Subject_Code']} {sub['Subject']}\")\n",
    "    subject_dict[sub['Subject_Code']]=sub['Subject']\n",
    "    \n",
    "for sub in (list_of_subjects):\n",
    "    print(sub)\n",
    "    os.makedirs(sub, exist_ok=True)\n",
    "    with open(f\"{sub}/tmp\", \"w\") as f:\n",
    "        f.write(f\"initialized: [{sub}]\")"
   ]
  },
  {
   "cell_type": "code",
   "execution_count": 7,
   "metadata": {},
   "outputs": [
    {
     "data": {
      "text/plain": [
       "{'OMC300A': 'Competitive Programming (Audit)',\n",
       " 'OMC300B': 'Introduction to Software Engineering (Bridge)',\n",
       " 'OMC301': 'Design and Analysis of Algorithms',\n",
       " 'OMC302': 'Mobile Application Development',\n",
       " 'OMC303': 'Artificial Intelligence and Machine Learning',\n",
       " 'OMC304A': 'Software Testing and Quality Assurance',\n",
       " 'OMC304B': 'Human-Computer Interaction',\n",
       " 'OMC304C': 'Theory of Computation and Compiler Construction',\n",
       " 'OMC304D': 'Operations Research',\n",
       " 'OMC305': 'Career Skills',\n",
       " 'OMC306': 'Mini Project/Research Seminar',\n",
       " 'OMC307': 'Design and Analysis of Algorithms Laboratory',\n",
       " 'OMC308': 'Mobile Application Development Laboratory',\n",
       " 'OMC309': 'Artificial Intelligence and Machine Learning Laboratory'}"
      ]
     },
     "execution_count": 7,
     "metadata": {},
     "output_type": "execute_result"
    }
   ],
   "source": [
    "subject_dict"
   ]
  },
  {
   "cell_type": "code",
   "execution_count": 8,
   "metadata": {},
   "outputs": [],
   "source": [
    "import os\n",
    "\n",
    "\n",
    "\n",
    "# Creating the timetable in markdown format\n",
    "timetable = \"\"\"\n",
    "# **MCA: Semester 03**\n",
    "\n",
    "## `Time Table`<br>\n",
    "\n",
    "                                                                                   |                                                                                        |                                                                                     |                                                                            |\n",
    "\n",
    "## `Assignments`<br>\n",
    "- [Assignment](<Assignments>)\n",
    "\n",
    "## `Exam Answers`<br>\n",
    "- [Exams](Exams)\n",
    "\n",
    "## `Subjects`<br>\n",
    "\"\"\"\n",
    "\n",
    "# Generating the list of subjects dynamically\n",
    "subject_list = \"\"\n",
    "for code, name in subject_dict.items():\n",
    "    subject_list += f\"- [{code} {name}](<{code} {name}>)\\n\"\n",
    "\n",
    "# Complete README content\n",
    "readme_content = timetable + \"\\n\" + subject_list\n",
    "\n",
    "# Create README.md file and write the content\n",
    "with open(\"README.md\", \"w\") as readme_file:\n",
    "    readme_file.write(readme_content)\n"
   ]
  },
  {
   "cell_type": "code",
   "execution_count": null,
   "metadata": {},
   "outputs": [],
   "source": []
  }
 ],
 "metadata": {
  "kernelspec": {
   "display_name": "Python 3",
   "language": "python",
   "name": "python3"
  },
  "language_info": {
   "codemirror_mode": {
    "name": "ipython",
    "version": 3
   },
   "file_extension": ".py",
   "mimetype": "text/x-python",
   "name": "python",
   "nbconvert_exporter": "python",
   "pygments_lexer": "ipython3",
   "version": "3.12.2"
  }
 },
 "nbformat": 4,
 "nbformat_minor": 2
}
