{
 "cells": [
  {
   "cell_type": "code",
   "execution_count": 1,
   "metadata": {},
   "outputs": [
    {
     "data": {
      "text/plain": [
       "'subjects.csv'"
      ]
     },
     "execution_count": 1,
     "metadata": {},
     "output_type": "execute_result"
    }
   ],
   "source": [
    "import pandas as pd\n",
    "\n",
    "# Data provided by the user\n",
    "data = {\n",
    "    \"Subject_Code\": [\n",
    "        \"OMC304AJuly23\", \"OMC309July23\", \"OMC308July23\", \"OMC307July23\", \n",
    "        \"OMC306July23\", \"OMC305July23\", \"OMC303July23\", \"OMC302July23\", \"OMC301July23\"\n",
    "    ],\n",
    "    \"Subject\": [\n",
    "        \"Software Testing and Quality Assurance\", \"Artificial Intelligence and Machine Learning Laboratory\", \n",
    "        \"Mobile Application Development Laboratory\", \"Design and Analysis of Algorithms Laboratory\", \n",
    "        \"Mini Project\", \"Career Skills\", \n",
    "        \"Artificial Intelligence and Machine Learning\", \"Mobile Application Development\", \n",
    "        \"Design and Analysis of Algorithms\"\n",
    "    ],\n",
    "    \"Semester\": [\"3\"]*9\n",
    "}\n",
    "\n",
    "# Create a DataFrame\n",
    "df = pd.DataFrame(data)\n",
    "\n",
    "# Saving to CSV file\n",
    "csv_file_path = 'subjects.csv'\n",
    "df.to_csv(csv_file_path, index=False)\n",
    "\n",
    "# Display the saved file to the user\n",
    "csv_file_path\n"
   ]
  },
  {
   "cell_type": "code",
   "execution_count": 2,
   "metadata": {},
   "outputs": [
    {
     "data": {
      "text/html": [
       "<div>\n",
       "<style scoped>\n",
       "    .dataframe tbody tr th:only-of-type {\n",
       "        vertical-align: middle;\n",
       "    }\n",
       "\n",
       "    .dataframe tbody tr th {\n",
       "        vertical-align: top;\n",
       "    }\n",
       "\n",
       "    .dataframe thead th {\n",
       "        text-align: right;\n",
       "    }\n",
       "</style>\n",
       "<table border=\"1\" class=\"dataframe\">\n",
       "  <thead>\n",
       "    <tr style=\"text-align: right;\">\n",
       "      <th></th>\n",
       "      <th>Subject_Code</th>\n",
       "      <th>Subject</th>\n",
       "      <th>Semester</th>\n",
       "    </tr>\n",
       "  </thead>\n",
       "  <tbody>\n",
       "    <tr>\n",
       "      <th>0</th>\n",
       "      <td>OMC304AJuly23</td>\n",
       "      <td>Software Testing and Quality Assurance</td>\n",
       "      <td>3</td>\n",
       "    </tr>\n",
       "    <tr>\n",
       "      <th>1</th>\n",
       "      <td>OMC309July23</td>\n",
       "      <td>Artificial Intelligence and Machine Learning L...</td>\n",
       "      <td>3</td>\n",
       "    </tr>\n",
       "    <tr>\n",
       "      <th>2</th>\n",
       "      <td>OMC308July23</td>\n",
       "      <td>Mobile Application Development Laboratory</td>\n",
       "      <td>3</td>\n",
       "    </tr>\n",
       "    <tr>\n",
       "      <th>3</th>\n",
       "      <td>OMC307July23</td>\n",
       "      <td>Design and Analysis of Algorithms Laboratory</td>\n",
       "      <td>3</td>\n",
       "    </tr>\n",
       "    <tr>\n",
       "      <th>4</th>\n",
       "      <td>OMC306July23</td>\n",
       "      <td>Mini Project</td>\n",
       "      <td>3</td>\n",
       "    </tr>\n",
       "  </tbody>\n",
       "</table>\n",
       "</div>"
      ],
      "text/plain": [
       "    Subject_Code                                            Subject Semester\n",
       "0  OMC304AJuly23             Software Testing and Quality Assurance        3\n",
       "1   OMC309July23  Artificial Intelligence and Machine Learning L...        3\n",
       "2   OMC308July23          Mobile Application Development Laboratory        3\n",
       "3   OMC307July23       Design and Analysis of Algorithms Laboratory        3\n",
       "4   OMC306July23                                       Mini Project        3"
      ]
     },
     "execution_count": 2,
     "metadata": {},
     "output_type": "execute_result"
    }
   ],
   "source": [
    "df.head()"
   ]
  },
  {
   "cell_type": "code",
   "execution_count": 3,
   "metadata": {},
   "outputs": [],
   "source": [
    "import os; os.chdir('..')"
   ]
  },
  {
   "cell_type": "code",
   "execution_count": 4,
   "metadata": {},
   "outputs": [],
   "source": []
  },
  {
   "cell_type": "code",
   "execution_count": 5,
   "metadata": {},
   "outputs": [
    {
     "name": "stdout",
     "output_type": "stream",
     "text": [
      "OMC304AJuly23 Software Testing and Quality Assurance\n",
      "OMC309July23 Artificial Intelligence and Machine Learning Laboratory\n",
      "OMC308July23 Mobile Application Development Laboratory\n",
      "OMC307July23 Design and Analysis of Algorithms Laboratory\n",
      "OMC306July23 Mini Project\n",
      "OMC305July23 Career Skills\n",
      "OMC303July23 Artificial Intelligence and Machine Learning\n",
      "OMC302July23 Mobile Application Development\n",
      "OMC301July23 Design and Analysis of Algorithms\n"
     ]
    }
   ],
   "source": [
    "subjects= df.copy()\n",
    "\n",
    "list_of_subjects= []\n",
    "for i in range(subjects.__len__()):\n",
    "# for i in range(2):\n",
    "    sub= subjects.iloc[i]\n",
    "    # print(sub)\n",
    "    # print(sub.keys())\n",
    "    list_of_subjects.append(f\"{sub['Subject_Code']} {sub['Subject']}\")\n",
    "    \n",
    "for sub in (list_of_subjects):\n",
    "    print(sub)\n",
    "    os.makedirs(sub, exist_ok=True)\n",
    "    with open(f\"{sub}/tmp\", \"w\") as f:\n",
    "        f.write(f\"initialized: [{sub}]\")"
   ]
  },
  {
   "cell_type": "code",
   "execution_count": 6,
   "metadata": {},
   "outputs": [],
   "source": [
    "import os\n",
    "\n",
    "# Data for the subjects\n",
    "subjects = {\n",
    "    \"OMC304AJuly23\": \"Software Testing and Quality Assurance\",\n",
    "    \"OMC309July23\": \"Artificial Intelligence and Machine Learning Laboratory\",\n",
    "    \"OMC308July23\": \"Mobile Application Development Laboratory\",\n",
    "    \"OMC307July23\": \"Design and Analysis of Algorithms Laboratory\",\n",
    "    \"OMC306July23\": \"Mini Project\",\n",
    "    \"OMC305July23\": \"Career Skills\",\n",
    "    \"OMC303July23\": \"Artificial Intelligence and Machine Learning\",\n",
    "    \"OMC302July23\": \"Mobile Application Development\",\n",
    "    \"OMC301July23\": \"Design and Analysis of Algorithms\"\n",
    "}\n",
    "\n",
    "# Creating the timetable in markdown format\n",
    "timetable = \"\"\"\n",
    "# **MCA: Semester 03**\n",
    "\n",
    "## `Time Table`<br>\n",
    "\n",
    "                                                                                   |                                                                                        |                                                                                     |                                                                            |\n",
    "\n",
    "## `Assignments`<br>\n",
    "- [Assignment](<Assignments>)\n",
    "\n",
    "## `Exam Answers`<br>\n",
    "- [Exams](Exams)\n",
    "\n",
    "## `Subjects`<br>\n",
    "\"\"\"\n",
    "\n",
    "# Generating the list of subjects dynamically\n",
    "subject_list = \"\"\n",
    "for code, name in subjects.items():\n",
    "    subject_list += f\"- [{code} {name}](<{code} {name}>)\\n\"\n",
    "\n",
    "# Complete README content\n",
    "readme_content = timetable + \"\\n\" + subject_list\n",
    "\n",
    "# Create README.md file and write the content\n",
    "with open(\"README.md\", \"w\") as readme_file:\n",
    "    readme_file.write(readme_content)\n"
   ]
  },
  {
   "cell_type": "code",
   "execution_count": null,
   "metadata": {},
   "outputs": [],
   "source": []
  }
 ],
 "metadata": {
  "kernelspec": {
   "display_name": "Python 3",
   "language": "python",
   "name": "python3"
  },
  "language_info": {
   "codemirror_mode": {
    "name": "ipython",
    "version": 3
   },
   "file_extension": ".py",
   "mimetype": "text/x-python",
   "name": "python",
   "nbconvert_exporter": "python",
   "pygments_lexer": "ipython3",
   "version": "3.12.2"
  }
 },
 "nbformat": 4,
 "nbformat_minor": 2
}
