{
 "cells": [
  {
   "cell_type": "code",
   "execution_count": 1,
   "metadata": {},
   "outputs": [],
   "source": [
    "import os; os.chdir('..')"
   ]
  },
  {
   "cell_type": "code",
   "execution_count": 6,
   "metadata": {},
   "outputs": [
    {
     "data": {
      "text/plain": [
       "['OMC103 Programming and Problem-Solving\\n',\n",
       " 'OMC104 Advanced Operating Systems \\n',\n",
       " 'OMC105B Green Computing \\n',\n",
       " 'OMC105D Cloud Computing \\n',\n",
       " 'OMC106C Career Skills - 1 \\n',\n",
       " 'OMC108 Full Stack Development Laboratory\\n',\n",
       " 'OMC109 Operating Systems and Computer Networks \\n',\n",
       " 'OMC110 Programming and Problem-Solving Laboratory']"
      ]
     },
     "execution_count": 6,
     "metadata": {},
     "output_type": "execute_result"
    }
   ],
   "source": [
    "with open('temp/list_of_subject.txt', 'r') as f:\n",
    "    subjects= f.readlines()\n",
    "\n",
    "subjects"
   ]
  },
  {
   "cell_type": "code",
   "execution_count": 10,
   "metadata": {},
   "outputs": [
    {
     "name": "stdout",
     "output_type": "stream",
     "text": [
      "OMC103 Programming and Problem-Solving exists\n",
      "OMC104 Advanced Operating Systems  exists\n",
      "OMC105B Green Computing  exists\n",
      "OMC105D Cloud Computing  exists\n",
      "OMC106C Career Skills - 1  exists\n",
      "OMC108 Full Stack Development Laboratory exists\n",
      "OMC109 Operating Systems and Computer Networks  exists\n",
      "OMC110 Programming and Problem-Solving Laboratory exists\n"
     ]
    }
   ],
   "source": [
    "for subject in subjects:\n",
    "    subject= subject.replace('\\n', '')\n",
    "    if not os.path.exists(subject):\n",
    "        os.makedirs(subject)\n",
    "    else:\n",
    "        print(f\"{subject} exists\")"
   ]
  },
  {
   "cell_type": "code",
   "execution_count": null,
   "metadata": {},
   "outputs": [],
   "source": []
  }
 ],
 "metadata": {
  "kernelspec": {
   "display_name": "Python 3",
   "language": "python",
   "name": "python3"
  },
  "language_info": {
   "codemirror_mode": {
    "name": "ipython",
    "version": 3
   },
   "file_extension": ".py",
   "mimetype": "text/x-python",
   "name": "python",
   "nbconvert_exporter": "python",
   "pygments_lexer": "ipython3",
   "version": "3.9.6"
  }
 },
 "nbformat": 4,
 "nbformat_minor": 2
}
